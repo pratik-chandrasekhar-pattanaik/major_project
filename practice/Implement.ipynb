{
 "cells": [
  {
   "cell_type": "code",
   "execution_count": 1,
   "id": "78bfa533",
   "metadata": {},
   "outputs": [
    {
     "name": "stdout",
     "output_type": "stream",
     "text": [
      "Hello World\n"
     ]
    }
   ],
   "source": [
    "print('Hello World')"
   ]
  },
  {
   "cell_type": "code",
   "execution_count": 2,
   "id": "f5053a19",
   "metadata": {},
   "outputs": [],
   "source": [
    "import numpy as np"
   ]
  },
  {
   "cell_type": "code",
   "execution_count": 60,
   "id": "b6d0ed67",
   "metadata": {},
   "outputs": [],
   "source": [
    "import pandas as pd"
   ]
  },
  {
   "cell_type": "code",
   "execution_count": 6,
   "id": "4b4a2c62",
   "metadata": {},
   "outputs": [],
   "source": [
    "import matplotlib as plt\n"
   ]
  },
  {
   "cell_type": "code",
   "execution_count": 7,
   "id": "9a0e22c9",
   "metadata": {},
   "outputs": [],
   "source": [
    "import sklearn"
   ]
  },
  {
   "cell_type": "code",
   "execution_count": 72,
   "id": "f6c1ec7d",
   "metadata": {},
   "outputs": [
    {
     "name": "stdout",
     "output_type": "stream",
     "text": [
      "enter username: elonmusk\n",
      "\n",
      "\n",
      "\n",
      "\n",
      "\n",
      "                                                                                                                                             TWEETS\n",
      "0                                                                                                                    @BillyM2k @atrupar Sounds fair\n",
      "1                                                                                                 @BillyM2k Definitely giving me kid naming ideas 🤣\n",
      "2                                                                                                                                   And … sold out!\n",
      "3                                                        Internet in airplanes will feel same as if you were accessing Internet at home! Mfl2ixYnJH\n",
      "4        28,700 bottles of exquisite Burnt Hair perfume already sold! Only 1,300 left of this unique, limited edition, collector’s item. Gh2Zg7B5qX\n",
      "..                                                                                                                                              ...\n",
      "108  We might need a different name, as this is basically just Starlink with roaming capability, so you can take your terminal anywhere. gnH0YPPVOS\n",
      "109                                                       @teslaownersSV The counter-intuitive thing is that it’s actually gonna be a sick product!\n",
      "110                                                                                                     Please buy my perfume, so I can buy Twitter\n",
      "111                                                                                                                And right on cue 🤣🤣 … RysKrHeJfi\n",
      "112                                                                                  @FedorovMykhailo You’re most welcome. Glad to support Ukraine.\n",
      "\n",
      "[113 rows x 1 columns]\n"
     ]
    }
   ],
   "source": [
    "import tweepy\n",
    "import configparser\n",
    "import pandas as pd\n",
    "\n",
    "\n",
    "# read configs\n",
    "config = configparser.ConfigParser()\n",
    "config.read('config.ini')\n",
    "\n",
    "api_key = config['twitter']['api_key']\n",
    "api_key_secret = config['twitter']['api_key_secret']\n",
    "\n",
    "access_token = config['twitter']['access_token']\n",
    "access_token_secret = config['twitter']['access_token_secret']\n",
    "bearer_token = 'AAAAAAAAAAAAAAAAAAAAAJCXiAEAAAAAlMOQc2O%2BbZib8Uw2sld4MLomM0E%3D4ePyxuoasHqc5YPP4NKRz6YwfYCbVVepKa1bh4pG3ljJiN4daS'\n",
    "#Put your Bearer Token in the parenthesis below\n",
    "client = tweepy.Client(bearer_token)\n",
    "\n",
    "\"\"\"\n",
    "If you don't understand search queries, there is an excellent introduction to it here: \n",
    "https://github.com/twitterdev/getting-started-with-the-twitter-api-v2-for-academic-research/blob/main/modules/5-how-to-write-search-queries.md\n",
    "\"\"\"\n",
    "\n",
    "# Get tweets that contain the hashtag #petday\n",
    "# -is:retweet means I don't wantretweets\n",
    "# lang:en is asking for the tweets to be in english\n",
    "username = str(input('enter username: '))\n",
    "print('\\n\\n\\n\\n')\n",
    "query = 'from:'+ username + ' -is:retweet lang:en'\n",
    "tweets = tweepy.Paginator(client.search_recent_tweets, query=query,\n",
    "                              tweet_fields=['context_annotations', 'created_at'], max_results=100).flatten(limit=1000)\n",
    "\n",
    "# for tweet in tweets:\n",
    "#     print(tweet.text)\n",
    "#     if len(tweet.context_annotations) > 0:\n",
    "#         print(tweet.context_annotations)\n",
    "\n",
    "columns = ['TWEETS']\n",
    "data = []\n",
    "\n",
    "for tweet in tweets:\n",
    "    data.append(tweet.text)\n",
    "\n",
    "df = pd.DataFrame(data, columns = columns)\n",
    "df = df.replace(\"\\s+\", \" \", regex=True).apply(lambda x: x.str.strip())\n",
    "df = df.replace(\"https://t.co/*\", \"\", regex=True)\n",
    "\n",
    "# df['TWEETS'].str.strip()\n",
    "pd.set_option('display.max_colwidth', None)\n",
    "print(df)"
   ]
  },
  {
   "cell_type": "code",
   "execution_count": null,
   "id": "fd3dec10",
   "metadata": {},
   "outputs": [],
   "source": []
  }
 ],
 "metadata": {
  "kernelspec": {
   "display_name": "Python 3 (ipykernel)",
   "language": "python",
   "name": "python3"
  },
  "language_info": {
   "codemirror_mode": {
    "name": "ipython",
    "version": 3
   },
   "file_extension": ".py",
   "mimetype": "text/x-python",
   "name": "python",
   "nbconvert_exporter": "python",
   "pygments_lexer": "ipython3",
   "version": "3.10.8"
  }
 },
 "nbformat": 4,
 "nbformat_minor": 5
}
